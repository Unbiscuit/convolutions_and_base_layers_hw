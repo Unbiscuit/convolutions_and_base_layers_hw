{
 "cells": [
  {
   "cell_type": "code",
   "execution_count": 1,
   "metadata": {},
   "outputs": [],
   "source": [
    "import torch\n",
    "from torch import nn\n",
    "from custombatchnorm import customBatchNorm\n",
    "from customlinear import customLinear\n",
    "from customdropout import customDropout\n",
    "from customrelu import customRelu\n",
    "from customsigmoid import customSigmoid\n",
    "from customsoftmax import customSoftmax"
   ]
  },
  {
   "cell_type": "code",
   "execution_count": 2,
   "metadata": {},
   "outputs": [],
   "source": [
    "input_size = 10\n",
    "output_size = 2"
   ]
  },
  {
   "cell_type": "markdown",
   "metadata": {},
   "source": [
    "# EX 1.1 Реализуйте слой BatchNorm (nn.BatchNorm)."
   ]
  },
  {
   "cell_type": "code",
   "execution_count": 5,
   "metadata": {},
   "outputs": [
    {
     "name": "stdout",
     "output_type": "stream",
     "text": [
      "tensor([[ 0.1511,  0.5954],\n",
      "        [-0.8417, -0.9203],\n",
      "        [-0.0230, -0.5061],\n",
      "        [-0.7668,  0.4772],\n",
      "        [-0.5356,  0.4615],\n",
      "        [ 1.6440, -0.4921],\n",
      "        [ 1.1571,  0.3590],\n",
      "        [ 1.3443,  1.7473],\n",
      "        [-1.4353, -2.1245],\n",
      "        [-0.6942,  0.4028]])\n"
     ]
    }
   ],
   "source": [
    "X = torch.rand(input_size, output_size) + 100\n",
    "custombatchnormlayer = customBatchNorm(2)\n",
    "print(custombatchnormlayer(X, training=True))"
   ]
  },
  {
   "cell_type": "markdown",
   "metadata": {},
   "source": [
    "ref:\n",
    "1. https://pytorch.org/docs/stable/generated/torch.nn.BatchNorm2d.html"
   ]
  },
  {
   "cell_type": "markdown",
   "metadata": {},
   "source": [
    "# EX 1.2 Реализуйте слой Linear (nn.Linear)."
   ]
  },
  {
   "cell_type": "code",
   "execution_count": 3,
   "metadata": {},
   "outputs": [
    {
     "data": {
      "text/plain": [
       "tensor([-0.2773, -0.1272], grad_fn=<CopyBackwards>)"
      ]
     },
     "execution_count": 3,
     "metadata": {},
     "output_type": "execute_result"
    }
   ],
   "source": [
    "customlinearlayer = customLinear(input_size, output_size)\n",
    "torchlinearlayer = nn.Linear(input_size, output_size)\n",
    "\n",
    "customlinearlayer.w.data.copy_(torchlinearlayer.weight.T)\n",
    "customlinearlayer.b.data.copy_(torchlinearlayer.bias)"
   ]
  },
  {
   "cell_type": "code",
   "execution_count": 4,
   "metadata": {},
   "outputs": [
    {
     "name": "stdout",
     "output_type": "stream",
     "text": [
      "customs output = tensor([ 0.1352, -0.1092]) torchs output = tensor([ 0.1352, -0.1092], grad_fn=<ViewBackward0>)\n"
     ]
    }
   ],
   "source": [
    "X = torch.rand(input_size)\n",
    "print(f'customs output = {customlinearlayer(X)} torchs output = {torchlinearlayer(X)}')"
   ]
  },
  {
   "cell_type": "markdown",
   "metadata": {},
   "source": [
    "ref:\n",
    "1) https://pytorch.org/docs/stable/generated/torch.nn.Linear.html\n",
    "2) https://www.toppr.com/guides/python-guide/references/methods-and-functions/methods/built-in/python-callable/"
   ]
  },
  {
   "cell_type": "markdown",
   "metadata": {},
   "source": [
    "# EX 1.3 Реализуйте слой Dropout(nn.Dropout)."
   ]
  },
  {
   "cell_type": "code",
   "execution_count": 5,
   "metadata": {},
   "outputs": [],
   "source": [
    "X = torch.rand(input_size)"
   ]
  },
  {
   "cell_type": "code",
   "execution_count": 9,
   "metadata": {},
   "outputs": [
    {
     "name": "stdout",
     "output_type": "stream",
     "text": [
      "X = tensor([0.1833, 0.6547, 0.3483, 0.3201, 0.5643, 0.8514, 0.0011, 0.8552, 0.3144,\n",
      "        0.1215]), \n",
      " customdropoutlayer result = tensor([0.1833, 0.0000, 0.0000, 0.0000, 0.0000, 0.0000, 0.0000, 0.0000, 0.0000,\n",
      "        0.0000])\n"
     ]
    }
   ],
   "source": [
    "customdropoutlayer = customDropout(p = 0.8)\n",
    "print(f'X = {X}, \\n customdropoutlayer result = {customdropoutlayer(X)}')"
   ]
  },
  {
   "cell_type": "markdown",
   "metadata": {},
   "source": [
    "ref: \n",
    "1) https://pytorch.org/docs/stable/generated/torch.nn.Dropout.html"
   ]
  },
  {
   "cell_type": "markdown",
   "metadata": {},
   "source": [
    "# EX 1.4 Реализуйте одно или более из:\n",
    "\n",
    "    слой ReLU(nn.ReLU)\n",
    "    слой Sigmoid(nn.Sigmoid)\n",
    "    слой Softmax(nn.Softmax)\n"
   ]
  },
  {
   "cell_type": "code",
   "execution_count": 8,
   "metadata": {},
   "outputs": [
    {
     "name": "stdout",
     "output_type": "stream",
     "text": [
      "relu result = tensor([[1.3558, 0.7316],\n",
      "        [0.0000, 0.5896],\n",
      "        [0.7719, 0.0000],\n",
      "        [0.0000, 0.5984],\n",
      "        [0.0000, 0.9217],\n",
      "        [0.0000, 0.0000],\n",
      "        [0.0000, 0.7951],\n",
      "        [0.5306, 1.4592],\n",
      "        [0.9442, 0.0000],\n",
      "        [0.0000, 0.0000]]) \n",
      " sigmoid result = tensor([[0.7951, 0.6752],\n",
      "        [0.4976, 0.6433],\n",
      "        [0.6839, 0.3520],\n",
      "        [0.2076, 0.6453],\n",
      "        [0.3333, 0.7154],\n",
      "        [0.0873, 0.4857],\n",
      "        [0.4371, 0.6889],\n",
      "        [0.6296, 0.8114],\n",
      "        [0.7199, 0.3010],\n",
      "        [0.1669, 0.4912]]) \n",
      " softmax result =  tensor([[0.6512, 0.3488],\n",
      "        [0.3545, 0.6455],\n",
      "        [0.7994, 0.2006],\n",
      "        [0.1259, 0.8741],\n",
      "        [0.1659, 0.8341],\n",
      "        [0.0920, 0.9080],\n",
      "        [0.2596, 0.7404],\n",
      "        [0.2832, 0.7168],\n",
      "        [0.8566, 0.1434],\n",
      "        [0.1719, 0.8281]])\n"
     ]
    }
   ],
   "source": [
    "X = torch.randn(input_size, output_size)\n",
    "\n",
    "customrelu = customRelu()\n",
    "customsigmoid = customSigmoid()\n",
    "customsoftmax = customSoftmax()\n",
    "\n",
    "print(f'custom: relu result = {customrelu(X)} \\n sigmoid result = {customsigmoid(X)} \\n softmax result =  {customsoftmax(X)}')"
   ]
  },
  {
   "cell_type": "code",
   "execution_count": 9,
   "metadata": {},
   "outputs": [
    {
     "name": "stdout",
     "output_type": "stream",
     "text": [
      "torch: relu result = tensor([[1.3558, 0.7316],\n",
      "        [0.0000, 0.5896],\n",
      "        [0.7719, 0.0000],\n",
      "        [0.0000, 0.5984],\n",
      "        [0.0000, 0.9217],\n",
      "        [0.0000, 0.0000],\n",
      "        [0.0000, 0.7951],\n",
      "        [0.5306, 1.4592],\n",
      "        [0.9442, 0.0000],\n",
      "        [0.0000, 0.0000]]) \n",
      " sigmoid result = tensor([[0.7951, 0.6752],\n",
      "        [0.4976, 0.6433],\n",
      "        [0.6839, 0.3520],\n",
      "        [0.2076, 0.6453],\n",
      "        [0.3333, 0.7154],\n",
      "        [0.0873, 0.4857],\n",
      "        [0.4371, 0.6889],\n",
      "        [0.6296, 0.8114],\n",
      "        [0.7199, 0.3010],\n",
      "        [0.1669, 0.4912]]) \n",
      " softmax result =  tensor([[0.6512, 0.3488],\n",
      "        [0.3545, 0.6455],\n",
      "        [0.7994, 0.2006],\n",
      "        [0.1259, 0.8741],\n",
      "        [0.1659, 0.8341],\n",
      "        [0.0920, 0.9080],\n",
      "        [0.2596, 0.7404],\n",
      "        [0.2832, 0.7168],\n",
      "        [0.8566, 0.1434],\n",
      "        [0.1719, 0.8281]])\n"
     ]
    },
    {
     "name": "stderr",
     "output_type": "stream",
     "text": [
      "/home/uncookie/anaconda3/envs/ersote/lib/python3.11/site-packages/torch/nn/modules/module.py:1532: UserWarning: Implicit dimension choice for softmax has been deprecated. Change the call to include dim=X as an argument.\n",
      "  return self._call_impl(*args, **kwargs)\n"
     ]
    }
   ],
   "source": [
    "torchrelu = torch.nn.ReLU()\n",
    "torchsigmoid = torch.nn.Sigmoid()\n",
    "torchsoftmax = torch.nn.Softmax()\n",
    "\n",
    "print(f'torch: relu result = {torchrelu(X)} \\n sigmoid result = {torchsigmoid(X)} \\n softmax result =  {torchsoftmax(X)}')"
   ]
  },
  {
   "cell_type": "markdown",
   "metadata": {},
   "source": [
    "ref:\n",
    "\n",
    "1. https://pytorch.org/docs/stable/generated/torch.nn.ReLU.html\n",
    "2. https://pytorch.org/docs/stable/generated/torch.nn.Sigmoid.html\n",
    "3. https://pytorch.org/docs/stable/generated/torch.nn.Softmax.html"
   ]
  }
 ],
 "metadata": {
  "kernelspec": {
   "display_name": "ersote",
   "language": "python",
   "name": "python3"
  },
  "language_info": {
   "codemirror_mode": {
    "name": "ipython",
    "version": 3
   },
   "file_extension": ".py",
   "mimetype": "text/x-python",
   "name": "python",
   "nbconvert_exporter": "python",
   "pygments_lexer": "ipython3",
   "version": "3.11.9"
  }
 },
 "nbformat": 4,
 "nbformat_minor": 2
}
